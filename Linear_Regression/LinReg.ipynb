{
 "cells": [
  {
   "cell_type": "code",
   "execution_count": 65,
   "metadata": {},
   "outputs": [],
   "source": [
    "import numpy as np\n",
    "\n",
    "%matplotlib inline\n",
    "\n",
    "import matplotlib\n",
    "import matplotlib.pyplot as plt"
   ]
  },
  {
   "cell_type": "code",
   "execution_count": 66,
   "metadata": {},
   "outputs": [],
   "source": [
    "# Read Acidity\n",
    "try:\n",
    "    x = np.loadtxt('/Users/chaitanyagupta/Desktop/machine-learning/Linear_Regression/data/linearX.csv', delimiter=\",\")\n",
    "except:\n",
    "    x = np.loadtxt('/home/chaitanya/Desktop/machine-learning/Linear_Regression/data/linearX.csv', delimiter=\",\")\n",
    "\n",
    "try:\n",
    "    m, n = x.shape[0], x.shape[1]\n",
    "except IndexError:\n",
    "    m, n = (x.shape[0], 1)\n",
    "\n",
    "x0 = np.ones(m)\n",
    "\n",
    "X = np.c_[x0, x]\n",
    "\n",
    "# Read Density\n",
    "try:\n",
    "    y = np.loadtxt('/Users/chaitanyagupta/Desktop/machine-learning/Linear_Regression/data/linearY.csv', delimiter=\",\")\n",
    "except:\n",
    "    y = np.loadtxt('/home/chaitanya/Desktop/machine-learning/Linear_Regression/data/linearY.csv', delimiter=\",\")\n"
   ]
  },
  {
   "cell_type": "code",
   "execution_count": 67,
   "metadata": {},
   "outputs": [
    {
     "data": {
      "image/png": "[encoded data removed]",
      "text/plain": [
       "<matplotlib.figure.Figure at 0x7f6b4d9f0550>"
      ]
     },
     "metadata": {},
     "output_type": "display_data"
    }
   ],
   "source": [
    "# Plot input data\n",
    "plt.scatter(x, y, marker='x', c='r')\n",
    "plt.xlabel('Acidity')\n",
    "plt.ylabel('Density');"
   ]
  },
  {
   "cell_type": "code",
   "execution_count": 68,
   "metadata": {},
   "outputs": [],
   "source": [
    "def J(theta, X, y):\n",
    "    \n",
    "    # Calculate the hypothesis\n",
    "    hypothesis = np.dot(X, theta)\n",
    "    \n",
    "    # Calculate the loss\n",
    "    loss = hypothesis - y\n",
    " \n",
    "    return (np.sum( loss ** 2 ) / (2))"
   ]
  },
  {
   "cell_type": "code",
   "execution_count": 70,
   "metadata": {},
   "outputs": [
    {
     "name": "stdout",
     "output_type": "stream",
     "text": [
      "Learning Rate:  0.001\n",
      "Initial Error:  49.66279047145\n",
      "Final Error:  2.0766543997019724\n",
      "Number of iterations:  64\n",
      "Parameters:  [0.01639504 0.11515626]\n"
     ]
    }
   ],
   "source": [
    "# Define variables\n",
    "\n",
    "l_rate = 0.001\n",
    "theta = np.zeros(n + 1)\n",
    "\n",
    "# No. of iterations it took for convergence\n",
    "num_iter = 0\n",
    "\n",
    "conv = False\n",
    "\n",
    "# Cost Function\n",
    "Jn = J(theta, X, y)\n",
    "\n",
    "print(\"Learning Rate: \", l_rate)\n",
    "print(\"Initial Error: \", Jn)\n",
    "\n",
    "\n",
    "while (not conv):\n",
    "    \n",
    "    theta = theta - (l_rate / m) * np.dot((np.dot(X, theta) - y), X)\n",
    "    \n",
    "    Jp = Jn\n",
    "    \n",
    "    Jn = J(theta, X, y)\n",
    "    \n",
    "#     if (num_iter % 5) == 0:\n",
    "#         error_plot_points.append((theta, Jn))\n",
    "    \n",
    "    if abs(Jp - Jn) < 10 ** -6:\n",
    "        conv = True\n",
    "        \n",
    "    num_iter += 1\n",
    "\n",
    "print(\"Final Error: \", Jn)\n",
    "print(\"Number of iterations: \", num_iter)\n",
    "print(\"Parameters: \", theta)"
   ]
  },
  {
   "cell_type": "code",
   "execution_count": null,
   "metadata": {},
   "outputs": [],
   "source": []
  }
 ],
 "metadata": {
  "kernelspec": {
   "display_name": "Python 3",
   "language": "python",
   "name": "python3"
  },
  "language_info": {
   "codemirror_mode": {
    "name": "ipython",
    "version": 3
   },
   "file_extension": ".py",
   "mimetype": "text/x-python",
   "name": "python",
   "nbconvert_exporter": "python",
   "pygments_lexer": "ipython3",
   "version": "3.5.2"
  }
 },
 "nbformat": 4,
 "nbformat_minor": 2
}
