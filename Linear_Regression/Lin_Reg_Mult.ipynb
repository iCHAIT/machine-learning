{
 "cells": [
  {
   "cell_type": "code",
   "execution_count": 198,
   "metadata": {},
   "outputs": [],
   "source": [
    "import numpy as np\n",
    "\n",
    "%matplotlib inline\n",
    "\n",
    "import matplotlib\n",
    "import matplotlib.pyplot as plt"
   ]
  },
  {
   "cell_type": "code",
   "execution_count": 199,
   "metadata": {},
   "outputs": [],
   "source": [
    "data = np.loadtxt('/Users/chaitanyagupta/Desktop/machine-learning/Linear_Regression/ex1/ex1data2.txt', delimiter=',')\n",
    "\n",
    "size = data[:, 0]\n",
    "\n",
    "size_m = np.mean(size)\n",
    "size_std = np.std(size)\n",
    "\n",
    "size_norm = (size - np.mean(size)) / np.std(size)\n",
    "\n",
    "beds = data[:, 1]\n",
    "\n",
    "beds_m = np.mean(beds)\n",
    "beds_std = np.std(beds)\n",
    "\n",
    "beds_norm = (beds - np.mean(beds)) / np.std(beds)\n",
    "\n",
    "y = data[:, 2]\n",
    "\n",
    "m, n = size.shape[0], data.shape[1] - 1\n",
    "    \n",
    "x0 = np.ones(m)\n",
    "\n",
    "X = np.c_[x0, size_norm, beds_norm]\n",
    "X_unnorm = np.c_[x0, size, beds]"
   ]
  },
  {
   "cell_type": "markdown",
   "metadata": {},
   "source": [
    "### Gradient Descent same as Univariate Linear Reg"
   ]
  },
  {
   "cell_type": "code",
   "execution_count": 200,
   "metadata": {},
   "outputs": [
    {
     "name": "stdout",
     "output_type": "stream",
     "text": [
      "Learining Rate:  0.3\n",
      "Initial theta:  [ 0.  0.  0.]\n",
      "Initial Error:  65591548106.5\n",
      "Final Error:  2043280050.6\n",
      "No of Iterations taken for conv:  1500\n",
      "Parametrs:  [ 340412.65957447  109447.79646964   -6578.35485416]\n"
     ]
    }
   ],
   "source": [
    "def J(theta, X, y):\n",
    "    \n",
    "    # Calculate hypothesis\n",
    "    hypothesis = np.dot(X, theta)\n",
    "    \n",
    "    # Calculate loss\n",
    "    loss = hypothesis - y\n",
    "    \n",
    "    # Error\n",
    "    error = 1/(2*m) * np.sum(loss ** 2) \n",
    "    \n",
    "    return error\n",
    "    \n",
    "    \n",
    "    \n",
    "l_rate = 0.3\n",
    "theta = np.zeros(n+1)\n",
    "\n",
    "iters = 1500\n",
    "\n",
    "print(\"Learining Rate: \", l_rate)\n",
    "print(\"Initial theta: \", theta)\n",
    "\n",
    "# Initial Error with theta init to 0\n",
    "Jn = J(theta, X, y)\n",
    "print(\"Initial Error: \", Jn)\n",
    "\n",
    "error_pts = []\n",
    "    \n",
    "for i in range(iters):\n",
    "    \n",
    "    Jn = J(theta, X, y)\n",
    "    error_pts.append(Jn)\n",
    "\n",
    "    theta = theta - l_rate * (1/m) * np.dot((np.dot(X, theta) - y), X)\n",
    "    \n",
    "    \n",
    "\n",
    "print(\"Final Error: \", Jn)\n",
    "print(\"No of Iterations taken for conv: \", iters)\n",
    "print(\"Parametrs: \", theta)"
   ]
  },
  {
   "cell_type": "markdown",
   "metadata": {},
   "source": [
    "### Plotting Convergence"
   ]
  },
  {
   "cell_type": "code",
   "execution_count": 201,
   "metadata": {},
   "outputs": [],
   "source": [
    "# Plot convergence of cost function\n",
    "\n",
    "def plotConvergence(error_pts):\n",
    "    plt.figure(figsize=(10,6))\n",
    "    plt.plot(range(len(error_pts)), error_pts, 'g-')\n",
    "    plt.title(\"Convergence of Cost Function\")\n",
    "    plt.xlabel(\"Iteration number\")\n",
    "    plt.ylabel(\"Cost function\")"
   ]
  },
  {
   "cell_type": "code",
   "execution_count": 202,
   "metadata": {},
   "outputs": [
    {
     "data": {
      "image/png": "[encoded data removed]",
      "text/plain": [
       "<matplotlib.figure.Figure at 0x111438fd0>"
      ]
     },
     "metadata": {},
     "output_type": "display_data"
    }
   ],
   "source": [
    "plotConvergence(error_pts)"
   ]
  },
  {
   "cell_type": "code",
   "execution_count": 203,
   "metadata": {},
   "outputs": [
    {
     "data": {
      "text/plain": [
       "293081.46433489607"
      ]
     },
     "execution_count": 203,
     "metadata": {},
     "output_type": "execute_result"
    }
   ],
   "source": [
    "y_pred = theta[0] + theta[1]*((1650 - size_m) / size_std) + theta[2]*((3 - beds_m) / beds_std)\n",
    "y_pred"
   ]
  },
  {
   "cell_type": "markdown",
   "metadata": {},
   "source": [
    "## Normal Equations"
   ]
  },
  {
   "cell_type": "code",
   "execution_count": 204,
   "metadata": {},
   "outputs": [],
   "source": [
    "from numpy.linalg import inv\n",
    "\n",
    "theta = np.dot(np.dot(inv(np.dot(X_unnorm.T, X)), X_unnorm.T), y)"
   ]
  },
  {
   "cell_type": "code",
   "execution_count": 205,
   "metadata": {},
   "outputs": [
    {
     "data": {
      "text/plain": [
       "array([ 340412.65957447,  109447.79646964,   -6578.35485416])"
      ]
     },
     "execution_count": 205,
     "metadata": {},
     "output_type": "execute_result"
    }
   ],
   "source": [
    "theta"
   ]
  },
  {
   "cell_type": "code",
   "execution_count": 206,
   "metadata": {},
   "outputs": [
    {
     "data": {
      "text/plain": [
       "293081.46433489636"
      ]
     },
     "execution_count": 206,
     "metadata": {},
     "output_type": "execute_result"
    }
   ],
   "source": [
    "y_pred_ne = theta[0] + theta[1]*((1650 - size_m) / size_std) + theta[2]*((3 - beds_m) / beds_std)\n",
    "y_pred_ne"
   ]
  },
  {
   "cell_type": "code",
   "execution_count": null,
   "metadata": {},
   "outputs": [],
   "source": []
  }
 ],
 "metadata": {
  "kernelspec": {
   "display_name": "Python 3",
   "language": "python",
   "name": "python3"
  },
  "language_info": {
   "codemirror_mode": {
    "name": "ipython",
    "version": 3
   },
   "file_extension": ".py",
   "mimetype": "text/x-python",
   "name": "python",
   "nbconvert_exporter": "python",
   "pygments_lexer": "ipython3",
   "version": "3.6.4"
  }
 },
 "nbformat": 4,
 "nbformat_minor": 2
}
